{
 "cells": [
  {
   "cell_type": "markdown",
   "metadata": {},
   "source": [
    "## Summary\n",
    "\n",
    "<p>\n",
    "The goal of this project is to predict \"miles per gallon\" (mpg) with (multiple) linear regression models and explore \"overfitting\" on the\n",
    "training data. The machine learning work flow of splitting the data into training and test data, instantiating the linear regression model, fitting the model to the data, and do an evaluation with mean squared error and variance. The data is cleaned mostly with pandas.\n",
    "</p>\n",
    "\n",
    "<p>\n",
    "The dataset used is the \"Auto MPG Data Set\" and is hosted by the University of California Irvine on their\n",
    "<a href=\"https://archive.ics.uci.edu/ml/datasets/Auto+MPG\"> machine learning repository </a>.\n",
    "</p>"
   ]
  },
  {
   "cell_type": "markdown",
   "metadata": {},
   "source": [
    "## Import packages"
   ]
  },
  {
   "cell_type": "code",
   "execution_count": 775,
   "metadata": {},
   "outputs": [],
   "source": [
    "import pandas as pd\n",
    "import matplotlib.pyplot as plt\n",
    "%matplotlib inline\n",
    "import seaborn as sns\n",
    "import numpy as np\n",
    "from sklearn.linear_model import LinearRegression\n",
    "from sklearn.metrics import mean_squared_error\n",
    "from sklearn.model_selection import KFold\n"
   ]
  },
  {
   "cell_type": "code",
   "execution_count": 776,
   "metadata": {},
   "outputs": [
    {
     "data": {
      "text/plain": [
       "'0.20.1'"
      ]
     },
     "execution_count": 776,
     "metadata": {},
     "output_type": "execute_result"
    }
   ],
   "source": [
    "pd.__version__"
   ]
  },
  {
   "cell_type": "markdown",
   "metadata": {},
   "source": [
    "## Import data"
   ]
  },
  {
   "cell_type": "code",
   "execution_count": 777,
   "metadata": {},
   "outputs": [
    {
     "name": "stdout",
     "output_type": "stream",
     "text": [
      "['mpg', 'cylinders', 'displacement', 'horsepower', 'weight', 'acceleration', 'model year', 'origin', 'car name']\n"
     ]
    }
   ],
   "source": [
    "column_names =[\"mpg\",\n",
    "\"cylinders\",\n",
    "\"displacement\",\n",
    "\"horsepower\",\n",
    "\"weight\",\n",
    "\"acceleration\",\n",
    "\"model year\",\n",
    "\"origin\",\n",
    "\"car name\"]\n",
    "\n",
    "print(column_names)"
   ]
  },
  {
   "cell_type": "code",
   "execution_count": 778,
   "metadata": {},
   "outputs": [],
   "source": [
    "cars=pd.read_table(\"auto-mpg.data\", header=None, delim_whitespace=True, names=column_names)"
   ]
  },
  {
   "cell_type": "markdown",
   "metadata": {},
   "source": [
    "## Explore & clean the data"
   ]
  },
  {
   "cell_type": "code",
   "execution_count": 779,
   "metadata": {},
   "outputs": [
    {
     "data": {
      "text/plain": [
       "(398, 9)"
      ]
     },
     "execution_count": 779,
     "metadata": {},
     "output_type": "execute_result"
    }
   ],
   "source": [
    "cars.shape"
   ]
  },
  {
   "cell_type": "code",
   "execution_count": 780,
   "metadata": {},
   "outputs": [
    {
     "name": "stdout",
     "output_type": "stream",
     "text": [
      "<class 'pandas.core.frame.DataFrame'>\n",
      "RangeIndex: 398 entries, 0 to 397\n",
      "Data columns (total 9 columns):\n",
      "mpg             398 non-null float64\n",
      "cylinders       398 non-null int64\n",
      "displacement    398 non-null float64\n",
      "horsepower      398 non-null object\n",
      "weight          398 non-null float64\n",
      "acceleration    398 non-null float64\n",
      "model year      398 non-null int64\n",
      "origin          398 non-null int64\n",
      "car name        398 non-null object\n",
      "dtypes: float64(4), int64(3), object(2)\n",
      "memory usage: 28.1+ KB\n"
     ]
    }
   ],
   "source": [
    "cars.info()"
   ]
  },
  {
   "cell_type": "code",
   "execution_count": 781,
   "metadata": {},
   "outputs": [
    {
     "data": {
      "text/plain": [
       "mpg             float64\n",
       "cylinders         int64\n",
       "displacement    float64\n",
       "horsepower       object\n",
       "weight          float64\n",
       "acceleration    float64\n",
       "model year        int64\n",
       "origin            int64\n",
       "car name         object\n",
       "dtype: object"
      ]
     },
     "execution_count": 781,
     "metadata": {},
     "output_type": "execute_result"
    }
   ],
   "source": [
    "cars.dtypes"
   ]
  },
  {
   "cell_type": "code",
   "execution_count": 782,
   "metadata": {},
   "outputs": [
    {
     "name": "stdout",
     "output_type": "stream",
     "text": [
      "mpg : <class 'numpy.float64'>\n",
      "cylinders : <class 'numpy.int64'>\n",
      "displacement : <class 'numpy.float64'>\n",
      "horsepower : <class 'str'>\n",
      "weight : <class 'numpy.float64'>\n",
      "acceleration : <class 'numpy.float64'>\n",
      "model year : <class 'numpy.int64'>\n",
      "origin : <class 'numpy.int64'>\n",
      "car name : <class 'str'>\n"
     ]
    }
   ],
   "source": [
    "for i in range(0, cars.shape[1]):\n",
    "               print(cars.columns[i], \":\" , type (cars.iloc[5,i]))"
   ]
  },
  {
   "cell_type": "markdown",
   "metadata": {},
   "source": [
    "Car name is a string, but horsepower. The other columns are correctly numerical."
   ]
  },
  {
   "cell_type": "code",
   "execution_count": 783,
   "metadata": {},
   "outputs": [
    {
     "data": {
      "text/html": [
       "<div>\n",
       "<style>\n",
       "    .dataframe thead tr:only-child th {\n",
       "        text-align: right;\n",
       "    }\n",
       "\n",
       "    .dataframe thead th {\n",
       "        text-align: left;\n",
       "    }\n",
       "\n",
       "    .dataframe tbody tr th {\n",
       "        vertical-align: top;\n",
       "    }\n",
       "</style>\n",
       "<table border=\"1\" class=\"dataframe\">\n",
       "  <thead>\n",
       "    <tr style=\"text-align: right;\">\n",
       "      <th></th>\n",
       "      <th>mpg</th>\n",
       "      <th>cylinders</th>\n",
       "      <th>displacement</th>\n",
       "      <th>horsepower</th>\n",
       "      <th>weight</th>\n",
       "      <th>acceleration</th>\n",
       "      <th>model year</th>\n",
       "      <th>origin</th>\n",
       "      <th>car name</th>\n",
       "    </tr>\n",
       "  </thead>\n",
       "  <tbody>\n",
       "    <tr>\n",
       "      <th>0</th>\n",
       "      <td>18.0</td>\n",
       "      <td>8</td>\n",
       "      <td>307.0</td>\n",
       "      <td>130.0</td>\n",
       "      <td>3504.0</td>\n",
       "      <td>12.0</td>\n",
       "      <td>70</td>\n",
       "      <td>1</td>\n",
       "      <td>chevrolet chevelle malibu</td>\n",
       "    </tr>\n",
       "    <tr>\n",
       "      <th>1</th>\n",
       "      <td>15.0</td>\n",
       "      <td>8</td>\n",
       "      <td>350.0</td>\n",
       "      <td>165.0</td>\n",
       "      <td>3693.0</td>\n",
       "      <td>11.5</td>\n",
       "      <td>70</td>\n",
       "      <td>1</td>\n",
       "      <td>buick skylark 320</td>\n",
       "    </tr>\n",
       "    <tr>\n",
       "      <th>2</th>\n",
       "      <td>18.0</td>\n",
       "      <td>8</td>\n",
       "      <td>318.0</td>\n",
       "      <td>150.0</td>\n",
       "      <td>3436.0</td>\n",
       "      <td>11.0</td>\n",
       "      <td>70</td>\n",
       "      <td>1</td>\n",
       "      <td>plymouth satellite</td>\n",
       "    </tr>\n",
       "    <tr>\n",
       "      <th>3</th>\n",
       "      <td>16.0</td>\n",
       "      <td>8</td>\n",
       "      <td>304.0</td>\n",
       "      <td>150.0</td>\n",
       "      <td>3433.0</td>\n",
       "      <td>12.0</td>\n",
       "      <td>70</td>\n",
       "      <td>1</td>\n",
       "      <td>amc rebel sst</td>\n",
       "    </tr>\n",
       "    <tr>\n",
       "      <th>4</th>\n",
       "      <td>17.0</td>\n",
       "      <td>8</td>\n",
       "      <td>302.0</td>\n",
       "      <td>140.0</td>\n",
       "      <td>3449.0</td>\n",
       "      <td>10.5</td>\n",
       "      <td>70</td>\n",
       "      <td>1</td>\n",
       "      <td>ford torino</td>\n",
       "    </tr>\n",
       "  </tbody>\n",
       "</table>\n",
       "</div>"
      ],
      "text/plain": [
       "    mpg  cylinders  displacement horsepower  weight  acceleration  model year  \\\n",
       "0  18.0          8         307.0      130.0  3504.0          12.0          70   \n",
       "1  15.0          8         350.0      165.0  3693.0          11.5          70   \n",
       "2  18.0          8         318.0      150.0  3436.0          11.0          70   \n",
       "3  16.0          8         304.0      150.0  3433.0          12.0          70   \n",
       "4  17.0          8         302.0      140.0  3449.0          10.5          70   \n",
       "\n",
       "   origin                   car name  \n",
       "0       1  chevrolet chevelle malibu  \n",
       "1       1          buick skylark 320  \n",
       "2       1         plymouth satellite  \n",
       "3       1              amc rebel sst  \n",
       "4       1                ford torino  "
      ]
     },
     "execution_count": 783,
     "metadata": {},
     "output_type": "execute_result"
    }
   ],
   "source": [
    "cars.head()"
   ]
  },
  {
   "cell_type": "code",
   "execution_count": 784,
   "metadata": {
    "scrolled": true
   },
   "outputs": [
    {
     "name": "stdout",
     "output_type": "stream",
     "text": [
      "(6, 9)\n"
     ]
    },
    {
     "data": {
      "text/html": [
       "<div>\n",
       "<style>\n",
       "    .dataframe thead tr:only-child th {\n",
       "        text-align: right;\n",
       "    }\n",
       "\n",
       "    .dataframe thead th {\n",
       "        text-align: left;\n",
       "    }\n",
       "\n",
       "    .dataframe tbody tr th {\n",
       "        vertical-align: top;\n",
       "    }\n",
       "</style>\n",
       "<table border=\"1\" class=\"dataframe\">\n",
       "  <thead>\n",
       "    <tr style=\"text-align: right;\">\n",
       "      <th></th>\n",
       "      <th>mpg</th>\n",
       "      <th>cylinders</th>\n",
       "      <th>displacement</th>\n",
       "      <th>horsepower</th>\n",
       "      <th>weight</th>\n",
       "      <th>acceleration</th>\n",
       "      <th>model year</th>\n",
       "      <th>origin</th>\n",
       "      <th>car name</th>\n",
       "    </tr>\n",
       "  </thead>\n",
       "  <tbody>\n",
       "    <tr>\n",
       "      <th>32</th>\n",
       "      <td>25.0</td>\n",
       "      <td>4</td>\n",
       "      <td>98.0</td>\n",
       "      <td>?</td>\n",
       "      <td>2046.0</td>\n",
       "      <td>19.0</td>\n",
       "      <td>71</td>\n",
       "      <td>1</td>\n",
       "      <td>ford pinto</td>\n",
       "    </tr>\n",
       "    <tr>\n",
       "      <th>126</th>\n",
       "      <td>21.0</td>\n",
       "      <td>6</td>\n",
       "      <td>200.0</td>\n",
       "      <td>?</td>\n",
       "      <td>2875.0</td>\n",
       "      <td>17.0</td>\n",
       "      <td>74</td>\n",
       "      <td>1</td>\n",
       "      <td>ford maverick</td>\n",
       "    </tr>\n",
       "    <tr>\n",
       "      <th>330</th>\n",
       "      <td>40.9</td>\n",
       "      <td>4</td>\n",
       "      <td>85.0</td>\n",
       "      <td>?</td>\n",
       "      <td>1835.0</td>\n",
       "      <td>17.3</td>\n",
       "      <td>80</td>\n",
       "      <td>2</td>\n",
       "      <td>renault lecar deluxe</td>\n",
       "    </tr>\n",
       "    <tr>\n",
       "      <th>336</th>\n",
       "      <td>23.6</td>\n",
       "      <td>4</td>\n",
       "      <td>140.0</td>\n",
       "      <td>?</td>\n",
       "      <td>2905.0</td>\n",
       "      <td>14.3</td>\n",
       "      <td>80</td>\n",
       "      <td>1</td>\n",
       "      <td>ford mustang cobra</td>\n",
       "    </tr>\n",
       "    <tr>\n",
       "      <th>354</th>\n",
       "      <td>34.5</td>\n",
       "      <td>4</td>\n",
       "      <td>100.0</td>\n",
       "      <td>?</td>\n",
       "      <td>2320.0</td>\n",
       "      <td>15.8</td>\n",
       "      <td>81</td>\n",
       "      <td>2</td>\n",
       "      <td>renault 18i</td>\n",
       "    </tr>\n",
       "    <tr>\n",
       "      <th>374</th>\n",
       "      <td>23.0</td>\n",
       "      <td>4</td>\n",
       "      <td>151.0</td>\n",
       "      <td>?</td>\n",
       "      <td>3035.0</td>\n",
       "      <td>20.5</td>\n",
       "      <td>82</td>\n",
       "      <td>1</td>\n",
       "      <td>amc concord dl</td>\n",
       "    </tr>\n",
       "  </tbody>\n",
       "</table>\n",
       "</div>"
      ],
      "text/plain": [
       "      mpg  cylinders  displacement horsepower  weight  acceleration  \\\n",
       "32   25.0          4          98.0          ?  2046.0          19.0   \n",
       "126  21.0          6         200.0          ?  2875.0          17.0   \n",
       "330  40.9          4          85.0          ?  1835.0          17.3   \n",
       "336  23.6          4         140.0          ?  2905.0          14.3   \n",
       "354  34.5          4         100.0          ?  2320.0          15.8   \n",
       "374  23.0          4         151.0          ?  3035.0          20.5   \n",
       "\n",
       "     model year  origin              car name  \n",
       "32           71       1            ford pinto  \n",
       "126          74       1         ford maverick  \n",
       "330          80       2  renault lecar deluxe  \n",
       "336          80       1    ford mustang cobra  \n",
       "354          81       2           renault 18i  \n",
       "374          82       1        amc concord dl  "
      ]
     },
     "execution_count": 784,
     "metadata": {},
     "output_type": "execute_result"
    }
   ],
   "source": [
    "# cars['horsepower'] = cars['horsepower'].astype('float').copy()\n",
    "# returns error because \"?\" cannot be converted into float\n",
    "# Were are the observations with \"?\" ?\n",
    "\n",
    "cars_non_standard_nan = cars[cars['horsepower'].str.match(\"\\?\")]\n",
    "print(cars_non_standard_nan.shape)\n",
    "cars_non_standard_nan\n",
    "\n"
   ]
  },
  {
   "cell_type": "code",
   "execution_count": 785,
   "metadata": {},
   "outputs": [
    {
     "data": {
      "text/plain": [
       "[32, 126, 330, 336, 354, 374]"
      ]
     },
     "execution_count": 785,
     "metadata": {},
     "output_type": "execute_result"
    }
   ],
   "source": [
    "list(cars_non_standard_nan.index)"
   ]
  },
  {
   "cell_type": "code",
   "execution_count": 786,
   "metadata": {},
   "outputs": [
    {
     "data": {
      "text/plain": [
       "(392, 9)"
      ]
     },
     "execution_count": 786,
     "metadata": {},
     "output_type": "execute_result"
    }
   ],
   "source": [
    "\n",
    "# Impute or filter 6 values?\n",
    "# 6 observations can be filtered out\n",
    "# old shape: (398, 9)\n",
    "cars =cars.drop(cars_non_standard_nan.index).copy()\n",
    "cars.shape\n"
   ]
  },
  {
   "cell_type": "code",
   "execution_count": 787,
   "metadata": {},
   "outputs": [
    {
     "data": {
      "text/plain": [
       "mpg             float64\n",
       "cylinders         int64\n",
       "displacement    float64\n",
       "horsepower      float64\n",
       "weight          float64\n",
       "acceleration    float64\n",
       "model year        int64\n",
       "origin            int64\n",
       "car name         object\n",
       "dtype: object"
      ]
     },
     "execution_count": 787,
     "metadata": {},
     "output_type": "execute_result"
    }
   ],
   "source": [
    "cars['horsepower'] = cars['horsepower'].astype('float').copy()\n",
    "cars.dtypes"
   ]
  },
  {
   "cell_type": "markdown",
   "metadata": {},
   "source": [
    "Clean column names"
   ]
  },
  {
   "cell_type": "code",
   "execution_count": 788,
   "metadata": {},
   "outputs": [
    {
     "name": "stdout",
     "output_type": "stream",
     "text": [
      "Index(['mpg', 'cylinders', 'displacement', 'horsepower', 'weight',\n",
      "       'acceleration', 'model_year', 'origin', 'car_name'],\n",
      "      dtype='object')\n"
     ]
    }
   ],
   "source": [
    "cars.columns=cars.columns.str.replace(\" \", \"_\")\n",
    "cars.columns=cars.columns.str.strip()\n",
    "print(cars.columns)"
   ]
  },
  {
   "cell_type": "markdown",
   "metadata": {},
   "source": [
    "Are there any null-values?"
   ]
  },
  {
   "cell_type": "code",
   "execution_count": 789,
   "metadata": {},
   "outputs": [
    {
     "data": {
      "text/plain": [
       "mpg             False\n",
       "cylinders       False\n",
       "displacement    False\n",
       "horsepower      False\n",
       "weight          False\n",
       "acceleration    False\n",
       "model_year      False\n",
       "origin          False\n",
       "car_name        False\n",
       "dtype: bool"
      ]
     },
     "execution_count": 789,
     "metadata": {},
     "output_type": "execute_result"
    }
   ],
   "source": [
    "cars.isnull().any()"
   ]
  },
  {
   "cell_type": "code",
   "execution_count": 790,
   "metadata": {},
   "outputs": [
    {
     "data": {
      "text/plain": [
       "mpg             0\n",
       "cylinders       0\n",
       "displacement    0\n",
       "horsepower      0\n",
       "weight          0\n",
       "acceleration    0\n",
       "model_year      0\n",
       "origin          0\n",
       "car_name        0\n",
       "dtype: int64"
      ]
     },
     "execution_count": 790,
     "metadata": {},
     "output_type": "execute_result"
    }
   ],
   "source": [
    "cars.isnull().sum()"
   ]
  },
  {
   "cell_type": "markdown",
   "metadata": {},
   "source": [
    "#### Explore the distributions"
   ]
  },
  {
   "cell_type": "code",
   "execution_count": 791,
   "metadata": {},
   "outputs": [
    {
     "data": {
      "image/png": "[encoded data removed]",
      "text/plain": [
       "<Figure size 720x504 with 8 Axes>"
      ]
     },
     "metadata": {
      "needs_background": "light"
     },
     "output_type": "display_data"
    }
   ],
   "source": [
    "cars_names=list(cars.columns)\n",
    "\n",
    "\n",
    "fig, axs = plt.subplots(2,4, figsize=(10,7))\n",
    "axs = axs.ravel()\n",
    "fig.suptitle('Distributions of variables with histogram')\n",
    "for i in range(8):\n",
    "    axs[i].hist(cars[cars_names[i]], color=\"gold\")\n",
    "    axs[i].set_title(cars_names[i])\n",
    "plt.show()"
   ]
  },
  {
   "cell_type": "code",
   "execution_count": 792,
   "metadata": {},
   "outputs": [
    {
     "data": {
      "image/png": "[encoded data removed]",
      "text/plain": [
       "<Figure size 720x504 with 8 Axes>"
      ]
     },
     "metadata": {},
     "output_type": "display_data"
    }
   ],
   "source": [
    "\n",
    "fig, axs = plt.subplots(2,4, figsize=(10,7), facecolor=\"lightblue\")\n",
    "axs = axs.ravel()\n",
    "fig.suptitle('Distributions of variables with histogram')\n",
    "for i in range(8):\n",
    "    axs[i].boxplot(cars[cars_names[i]], showbox = True, patch_artist=True)\n",
    "    axs[i].set_facecolor(\"lightgreen\")\n",
    "    axs[i].set_title(cars_names[i])\n",
    "    \n",
    "    \n",
    "plt.show()"
   ]
  },
  {
   "cell_type": "markdown",
   "metadata": {},
   "source": [
    "#### Aggregation"
   ]
  },
  {
   "cell_type": "code",
   "execution_count": 793,
   "metadata": {},
   "outputs": [
    {
     "name": "stdout",
     "output_type": "stream",
     "text": [
      "[1 3 2]\n",
      "1    245\n",
      "3     79\n",
      "2     68\n",
      "Name: origin, dtype: int64\n"
     ]
    }
   ],
   "source": [
    "print(cars['origin'].unique())\n",
    "print(cars['origin'].value_counts())"
   ]
  },
  {
   "cell_type": "code",
   "execution_count": 794,
   "metadata": {},
   "outputs": [
    {
     "data": {
      "text/html": [
       "<div>\n",
       "<style>\n",
       "    .dataframe thead tr:only-child th {\n",
       "        text-align: right;\n",
       "    }\n",
       "\n",
       "    .dataframe thead th {\n",
       "        text-align: left;\n",
       "    }\n",
       "\n",
       "    .dataframe tbody tr th {\n",
       "        vertical-align: top;\n",
       "    }\n",
       "</style>\n",
       "<table border=\"1\" class=\"dataframe\">\n",
       "  <thead>\n",
       "    <tr style=\"text-align: right;\">\n",
       "      <th></th>\n",
       "      <th>origin</th>\n",
       "      <th>1</th>\n",
       "      <th>2</th>\n",
       "      <th>3</th>\n",
       "    </tr>\n",
       "  </thead>\n",
       "  <tbody>\n",
       "    <tr>\n",
       "      <th rowspan=\"5\" valign=\"top\">mpg</th>\n",
       "      <th>mean</th>\n",
       "      <td>20.033469</td>\n",
       "      <td>27.602941</td>\n",
       "      <td>30.450633</td>\n",
       "    </tr>\n",
       "    <tr>\n",
       "      <th>std</th>\n",
       "      <td>6.440384</td>\n",
       "      <td>6.580182</td>\n",
       "      <td>6.090048</td>\n",
       "    </tr>\n",
       "    <tr>\n",
       "      <th>max</th>\n",
       "      <td>39.000000</td>\n",
       "      <td>44.300000</td>\n",
       "      <td>46.600000</td>\n",
       "    </tr>\n",
       "    <tr>\n",
       "      <th>min</th>\n",
       "      <td>9.000000</td>\n",
       "      <td>16.200000</td>\n",
       "      <td>18.000000</td>\n",
       "    </tr>\n",
       "    <tr>\n",
       "      <th>median</th>\n",
       "      <td>18.500000</td>\n",
       "      <td>26.000000</td>\n",
       "      <td>31.600000</td>\n",
       "    </tr>\n",
       "    <tr>\n",
       "      <th rowspan=\"5\" valign=\"top\">cylinders</th>\n",
       "      <th>mean</th>\n",
       "      <td>6.277551</td>\n",
       "      <td>4.161765</td>\n",
       "      <td>4.101266</td>\n",
       "    </tr>\n",
       "    <tr>\n",
       "      <th>std</th>\n",
       "      <td>1.655996</td>\n",
       "      <td>0.506975</td>\n",
       "      <td>0.590414</td>\n",
       "    </tr>\n",
       "    <tr>\n",
       "      <th>max</th>\n",
       "      <td>8.000000</td>\n",
       "      <td>6.000000</td>\n",
       "      <td>6.000000</td>\n",
       "    </tr>\n",
       "    <tr>\n",
       "      <th>min</th>\n",
       "      <td>4.000000</td>\n",
       "      <td>4.000000</td>\n",
       "      <td>3.000000</td>\n",
       "    </tr>\n",
       "    <tr>\n",
       "      <th>median</th>\n",
       "      <td>6.000000</td>\n",
       "      <td>4.000000</td>\n",
       "      <td>4.000000</td>\n",
       "    </tr>\n",
       "    <tr>\n",
       "      <th rowspan=\"5\" valign=\"top\">weight</th>\n",
       "      <th>mean</th>\n",
       "      <td>3372.489796</td>\n",
       "      <td>2433.470588</td>\n",
       "      <td>2221.227848</td>\n",
       "    </tr>\n",
       "    <tr>\n",
       "      <th>std</th>\n",
       "      <td>795.346690</td>\n",
       "      <td>491.813867</td>\n",
       "      <td>320.497248</td>\n",
       "    </tr>\n",
       "    <tr>\n",
       "      <th>max</th>\n",
       "      <td>5140.000000</td>\n",
       "      <td>3820.000000</td>\n",
       "      <td>2930.000000</td>\n",
       "    </tr>\n",
       "    <tr>\n",
       "      <th>min</th>\n",
       "      <td>1800.000000</td>\n",
       "      <td>1825.000000</td>\n",
       "      <td>1613.000000</td>\n",
       "    </tr>\n",
       "    <tr>\n",
       "      <th>median</th>\n",
       "      <td>3381.000000</td>\n",
       "      <td>2240.000000</td>\n",
       "      <td>2155.000000</td>\n",
       "    </tr>\n",
       "  </tbody>\n",
       "</table>\n",
       "</div>"
      ],
      "text/plain": [
       "origin                      1            2            3\n",
       "mpg       mean      20.033469    27.602941    30.450633\n",
       "          std        6.440384     6.580182     6.090048\n",
       "          max       39.000000    44.300000    46.600000\n",
       "          min        9.000000    16.200000    18.000000\n",
       "          median    18.500000    26.000000    31.600000\n",
       "cylinders mean       6.277551     4.161765     4.101266\n",
       "          std        1.655996     0.506975     0.590414\n",
       "          max        8.000000     6.000000     6.000000\n",
       "          min        4.000000     4.000000     3.000000\n",
       "          median     6.000000     4.000000     4.000000\n",
       "weight    mean    3372.489796  2433.470588  2221.227848\n",
       "          std      795.346690   491.813867   320.497248\n",
       "          max     5140.000000  3820.000000  2930.000000\n",
       "          min     1800.000000  1825.000000  1613.000000\n",
       "          median  3381.000000  2240.000000  2155.000000"
      ]
     },
     "execution_count": 794,
     "metadata": {},
     "output_type": "execute_result"
    }
   ],
   "source": [
    "cars.groupby('origin')[['mpg', 'cylinders', 'weight']].\\\n",
    "aggregate([\"mean\", \"std\", \"max\", \"min\", \"median\"]).transpose()"
   ]
  },
  {
   "cell_type": "markdown",
   "metadata": {},
   "source": [
    "#### Correlation"
   ]
  },
  {
   "cell_type": "code",
   "execution_count": 795,
   "metadata": {},
   "outputs": [
    {
     "data": {
      "text/plain": [
       "mpg             0.565209\n",
       "cylinders      -0.568932\n",
       "displacement   -0.614535\n",
       "horsepower     -0.455171\n",
       "weight         -0.585005\n",
       "acceleration    0.212746\n",
       "model_year      0.181528\n",
       "origin          1.000000\n",
       "Name: origin, dtype: float64"
      ]
     },
     "execution_count": 795,
     "metadata": {},
     "output_type": "execute_result"
    }
   ],
   "source": [
    "cars_corr_matrix=cars.corr()\n",
    "correlation_origin_other = cars_corr_matrix.loc[:,'origin']\n",
    "correlation_origin_other "
   ]
  },
  {
   "cell_type": "code",
   "execution_count": 796,
   "metadata": {},
   "outputs": [
    {
     "data": {
      "image/png": "[encoded data removed]",
      "text/plain": [
       "<Figure size 432x288 with 2 Axes>"
      ]
     },
     "metadata": {
      "needs_background": "light"
     },
     "output_type": "display_data"
    }
   ],
   "source": [
    "ax = sns.heatmap(\n",
    "    cars_corr_matrix, \n",
    "    vmin=-1, vmax=1, center=0,\n",
    "    # cmap=sns.diverging_palette(20, 220, n=200),\n",
    "    square=True\n",
    ")\n",
    "ax.set_xticklabels(\n",
    "    ax.get_xticklabels(),\n",
    "    rotation=45,\n",
    "    horizontalalignment='right'\n",
    ");"
   ]
  },
  {
   "cell_type": "code",
   "execution_count": 797,
   "metadata": {},
   "outputs": [
    {
     "data": {
      "text/plain": [
       "<seaborn.axisgrid.PairGrid at 0x2ef1841bf98>"
      ]
     },
     "execution_count": 797,
     "metadata": {},
     "output_type": "execute_result"
    },
    {
     "data": {
      "image/png": "[encoded data removed]",
      "text/plain": [
       "<Figure size 1260x180 with 7 Axes>"
      ]
     },
     "metadata": {},
     "output_type": "display_data"
    }
   ],
   "source": [
    "plt.style.use(['seaborn-whitegrid'])\n",
    "g = sns.PairGrid(cars, y_vars=[\"mpg\"], x_vars=['cylinders', 'displacement', 'horsepower', 'weight','acceleration', 'model_year', 'origin'])\n",
    "g.map(sns.regplot, color=\".3\")"
   ]
  },
  {
   "cell_type": "markdown",
   "metadata": {},
   "source": [
    "Some of these regression relationships make intuitively sense. As horsepower increases miles per gallon goes down. \n",
    "More fuel is needed for one mile or less miles can be driven with one gallon."
   ]
  },
  {
   "cell_type": "markdown",
   "metadata": {},
   "source": [
    "## Modeling: linear regression"
   ]
  },
  {
   "cell_type": "markdown",
   "metadata": {},
   "source": [
    "#### First model: simple (univariate) linear regression models without train-test-split"
   ]
  },
  {
   "cell_type": "code",
   "execution_count": 798,
   "metadata": {},
   "outputs": [],
   "source": [
    "def train_train_model(features):\n",
    "    reg = LinearRegression()\n",
    "    X = cars[features] # needs a list\n",
    "    y = cars[['mpg']] # label or targe variable\n",
    "    reg.fit(X,y)\n",
    "    predictions = reg.predict(X)\n",
    "    mse = mean_squared_error(y, predictions)\n",
    "    variance = np.var(predictions)\n",
    "    return(mse, variance)\n",
    "    "
   ]
  },
  {
   "cell_type": "code",
   "execution_count": 799,
   "metadata": {},
   "outputs": [
    {
     "name": "stdout",
     "output_type": "stream",
     "text": [
      "49.87\n",
      "10.89\n"
     ]
    }
   ],
   "source": [
    "mse_acceleration, variance_acceleration = simple_reg(['acceleration'])\n",
    "print(mse_acceleration.round(2))\n",
    "print(variance_acceleration.round(2))"
   ]
  },
  {
   "cell_type": "code",
   "execution_count": 800,
   "metadata": {},
   "outputs": [
    {
     "name": "stdout",
     "output_type": "stream",
     "text": [
      "18.68\n",
      "42.09\n"
     ]
    }
   ],
   "source": [
    "mse_weight, variance_weight = simple_reg(['weight'])\n",
    "print(mse_weight.round(2))\n",
    "print(variance_weight.round(2))"
   ]
  },
  {
   "cell_type": "code",
   "execution_count": 801,
   "metadata": {},
   "outputs": [
    {
     "name": "stdout",
     "output_type": "stream",
     "text": [
      "24.02\n",
      "36.74\n"
     ]
    }
   ],
   "source": [
    "mse_cylinders, variance_cylinders = simple_reg(['cylinders'])\n",
    "print(mse_cylinders.round(2))\n",
    "print(variance_cylinders.round(2))"
   ]
  },
  {
   "cell_type": "code",
   "execution_count": 802,
   "metadata": {},
   "outputs": [
    {
     "name": "stdout",
     "output_type": "stream",
     "text": [
      "23.94\n",
      "36.82\n"
     ]
    }
   ],
   "source": [
    "\n",
    "mse_horsepower, variance_horsepower = simple_reg(['horsepower'])\n",
    "print(mse_horsepower.round(2))\n",
    "print(variance_horsepower.round(2))"
   ]
  },
  {
   "cell_type": "code",
   "execution_count": 803,
   "metadata": {},
   "outputs": [
    {
     "name": "stdout",
     "output_type": "stream",
     "text": [
      "[['acceleration' 'weight' 'cylinders' 'horsepower']\n",
      " ['49.8736273267' '18.6766165974' '24.0201795682' '23.9436629386']]\n"
     ]
    },
    {
     "data": {
      "text/html": [
       "<div>\n",
       "<style>\n",
       "    .dataframe thead tr:only-child th {\n",
       "        text-align: right;\n",
       "    }\n",
       "\n",
       "    .dataframe thead th {\n",
       "        text-align: left;\n",
       "    }\n",
       "\n",
       "    .dataframe tbody tr th {\n",
       "        vertical-align: top;\n",
       "    }\n",
       "</style>\n",
       "<table border=\"1\" class=\"dataframe\">\n",
       "  <thead>\n",
       "    <tr style=\"text-align: right;\">\n",
       "      <th></th>\n",
       "      <th>Feature</th>\n",
       "      <th>MSE</th>\n",
       "    </tr>\n",
       "  </thead>\n",
       "  <tbody>\n",
       "    <tr>\n",
       "      <th>1</th>\n",
       "      <td>weight</td>\n",
       "      <td>18.6766165974</td>\n",
       "    </tr>\n",
       "    <tr>\n",
       "      <th>3</th>\n",
       "      <td>horsepower</td>\n",
       "      <td>23.9436629386</td>\n",
       "    </tr>\n",
       "    <tr>\n",
       "      <th>2</th>\n",
       "      <td>cylinders</td>\n",
       "      <td>24.0201795682</td>\n",
       "    </tr>\n",
       "    <tr>\n",
       "      <th>0</th>\n",
       "      <td>acceleration</td>\n",
       "      <td>49.8736273267</td>\n",
       "    </tr>\n",
       "  </tbody>\n",
       "</table>\n",
       "</div>"
      ],
      "text/plain": [
       "        Feature            MSE\n",
       "1        weight  18.6766165974\n",
       "3    horsepower  23.9436629386\n",
       "2     cylinders  24.0201795682\n",
       "0  acceleration  49.8736273267"
      ]
     },
     "execution_count": 803,
     "metadata": {},
     "output_type": "execute_result"
    }
   ],
   "source": [
    "names=[\"acceleration\", \"weight\", \"cylinders\", \"horsepower\"]\n",
    "features = [mse_acceleration, mse_weight, mse_cylinders, mse_horsepower]\n",
    "all_mse_array = np.array([names, features])\n",
    "print(all_mse_array)\n",
    "\n",
    "all_mse_1 = pd.DataFrame(all_mse_array).transpose()\n",
    "all_mse_1.columns = [\"Feature\" , \"MSE\"]\n",
    "all_mse_1.sort_values(by=\"MSE\")"
   ]
  },
  {
   "cell_type": "markdown",
   "metadata": {},
   "source": [
    "The weight feature generates the lowest MSE. The relationship between weight and miles per gallon seems plausible."
   ]
  },
  {
   "cell_type": "markdown",
   "metadata": {},
   "source": [
    "Step-by-step extending the number of features used."
   ]
  },
  {
   "cell_type": "code",
   "execution_count": 804,
   "metadata": {},
   "outputs": [
    {
     "name": "stdout",
     "output_type": "stream",
     "text": [
      "<class 'pandas.core.frame.DataFrame'>\n",
      "Int64Index: 392 entries, 0 to 397\n",
      "Data columns (total 9 columns):\n",
      "mpg             392 non-null float64\n",
      "cylinders       392 non-null int64\n",
      "displacement    392 non-null float64\n",
      "horsepower      392 non-null float64\n",
      "weight          392 non-null float64\n",
      "acceleration    392 non-null float64\n",
      "model_year      392 non-null int64\n",
      "origin          392 non-null int64\n",
      "car_name        392 non-null object\n",
      "dtypes: float64(5), int64(3), object(1)\n",
      "memory usage: 40.6+ KB\n"
     ]
    }
   ],
   "source": [
    "cars.info()"
   ]
  },
  {
   "cell_type": "code",
   "execution_count": 805,
   "metadata": {},
   "outputs": [
    {
     "data": {
      "text/plain": [
       "Index(['mpg', 'cylinders', 'displacement', 'horsepower', 'weight',\n",
       "       'acceleration', 'model_year', 'origin', 'car_name'],\n",
       "      dtype='object')"
      ]
     },
     "execution_count": 805,
     "metadata": {},
     "output_type": "execute_result"
    }
   ],
   "source": [
    "cars.columns"
   ]
  },
  {
   "cell_type": "code",
   "execution_count": 806,
   "metadata": {},
   "outputs": [],
   "source": [
    "mse_2, variance_2 = train_train_model(['cylinders', 'displacement'])\n",
    "mse_3, variance_3 = train_train_model(['cylinders', 'displacement', 'horsepower'])\n",
    "mse_4, variance_4 = train_train_model(['cylinders', 'displacement', 'horsepower', 'weight'])\n",
    "mse_5, variance_5 = train_train_model(['cylinders', 'displacement', 'horsepower', 'weight','acceleration'])\n",
    "mse_6, variance_6 = train_train_model(['cylinders', 'displacement', 'horsepower', 'weight',\\\n",
    "                                                  'acceleration', 'model_year'])\n",
    "mse_7, variance_7 = train_train_model(['cylinders', 'displacement', 'horsepower', 'weight', \\\n",
    "                                                  'acceleration', 'model_year', 'origin'])\n"
   ]
  },
  {
   "cell_type": "code",
   "execution_count": 807,
   "metadata": {},
   "outputs": [],
   "source": [
    "step_mse = [mse_2, mse_3, mse_4, mse_5, mse_6, mse_7]\n",
    "# print(step_mse)\n",
    "# step_variance = [variance_2, variance_3, variance_4, variance_5, variance_6, variance_7]\n",
    "# print(step_variance)\n",
    "step_number_features = np.arange(2,8,1, dtype=\"int\")\n",
    "# print(step_number_features)\n",
    "step_names = [\"feature\", \"MSE\", \"variance\"]\n",
    "\n",
    "step_df = pd.DataFrame(np.array([step_number_features, step_mse, step_variance]).T, columns=step_names)\n",
    "step_df['feature'] = step_df['feature'].astype('int64')\n"
   ]
  },
  {
   "cell_type": "markdown",
   "metadata": {},
   "source": [
    "### bias-variance-tradeoff\n",
    "Bias results from insufficient understanding of the relationship between predictor and response variables.\n",
    "(Which features to use?)<br>\n",
    "Variance is the variability of the predicted values.<br>\n",
    "Often low bias (MSE) correspondends with high variance (var) and vice versa."
   ]
  },
  {
   "cell_type": "code",
   "execution_count": 808,
   "metadata": {},
   "outputs": [
    {
     "data": {
      "text/html": [
       "<div>\n",
       "<style>\n",
       "    .dataframe thead tr:only-child th {\n",
       "        text-align: right;\n",
       "    }\n",
       "\n",
       "    .dataframe thead th {\n",
       "        text-align: left;\n",
       "    }\n",
       "\n",
       "    .dataframe tbody tr th {\n",
       "        vertical-align: top;\n",
       "    }\n",
       "</style>\n",
       "<table border=\"1\" class=\"dataframe\">\n",
       "  <thead>\n",
       "    <tr style=\"text-align: right;\">\n",
       "      <th></th>\n",
       "      <th>feature</th>\n",
       "      <th>MSE</th>\n",
       "      <th>variance</th>\n",
       "    </tr>\n",
       "  </thead>\n",
       "  <tbody>\n",
       "    <tr>\n",
       "      <th>5</th>\n",
       "      <td>7</td>\n",
       "      <td>10.847481</td>\n",
       "      <td>49.915257</td>\n",
       "    </tr>\n",
       "    <tr>\n",
       "      <th>4</th>\n",
       "      <td>6</td>\n",
       "      <td>11.590171</td>\n",
       "      <td>49.172567</td>\n",
       "    </tr>\n",
       "    <tr>\n",
       "      <th>3</th>\n",
       "      <td>5</td>\n",
       "      <td>17.761396</td>\n",
       "      <td>43.001342</td>\n",
       "    </tr>\n",
       "    <tr>\n",
       "      <th>2</th>\n",
       "      <td>4</td>\n",
       "      <td>17.763861</td>\n",
       "      <td>42.998878</td>\n",
       "    </tr>\n",
       "    <tr>\n",
       "      <th>1</th>\n",
       "      <td>3</td>\n",
       "      <td>20.252955</td>\n",
       "      <td>40.509784</td>\n",
       "    </tr>\n",
       "    <tr>\n",
       "      <th>0</th>\n",
       "      <td>2</td>\n",
       "      <td>21.282057</td>\n",
       "      <td>39.480681</td>\n",
       "    </tr>\n",
       "  </tbody>\n",
       "</table>\n",
       "</div>"
      ],
      "text/plain": [
       "   feature        MSE   variance\n",
       "5        7  10.847481  49.915257\n",
       "4        6  11.590171  49.172567\n",
       "3        5  17.761396  43.001342\n",
       "2        4  17.763861  42.998878\n",
       "1        3  20.252955  40.509784\n",
       "0        2  21.282057  39.480681"
      ]
     },
     "execution_count": 808,
     "metadata": {},
     "output_type": "execute_result"
    }
   ],
   "source": [
    "step_df.sort_values('MSE')"
   ]
  },
  {
   "cell_type": "markdown",
   "metadata": {},
   "source": [
    "By adding number of features the MSE decreases. The seven feature model has the lowest MSE with 10.85. The bias is low.<br>\n",
    "The two feature model has the highest MSE. The bias is highest therefore."
   ]
  },
  {
   "cell_type": "code",
   "execution_count": 809,
   "metadata": {},
   "outputs": [
    {
     "data": {
      "text/html": [
       "<div>\n",
       "<style>\n",
       "    .dataframe thead tr:only-child th {\n",
       "        text-align: right;\n",
       "    }\n",
       "\n",
       "    .dataframe thead th {\n",
       "        text-align: left;\n",
       "    }\n",
       "\n",
       "    .dataframe tbody tr th {\n",
       "        vertical-align: top;\n",
       "    }\n",
       "</style>\n",
       "<table border=\"1\" class=\"dataframe\">\n",
       "  <thead>\n",
       "    <tr style=\"text-align: right;\">\n",
       "      <th></th>\n",
       "      <th>feature</th>\n",
       "      <th>MSE</th>\n",
       "      <th>variance</th>\n",
       "    </tr>\n",
       "  </thead>\n",
       "  <tbody>\n",
       "    <tr>\n",
       "      <th>0</th>\n",
       "      <td>2</td>\n",
       "      <td>21.282057</td>\n",
       "      <td>39.480681</td>\n",
       "    </tr>\n",
       "    <tr>\n",
       "      <th>1</th>\n",
       "      <td>3</td>\n",
       "      <td>20.252955</td>\n",
       "      <td>40.509784</td>\n",
       "    </tr>\n",
       "    <tr>\n",
       "      <th>2</th>\n",
       "      <td>4</td>\n",
       "      <td>17.763861</td>\n",
       "      <td>42.998878</td>\n",
       "    </tr>\n",
       "    <tr>\n",
       "      <th>3</th>\n",
       "      <td>5</td>\n",
       "      <td>17.761396</td>\n",
       "      <td>43.001342</td>\n",
       "    </tr>\n",
       "    <tr>\n",
       "      <th>4</th>\n",
       "      <td>6</td>\n",
       "      <td>11.590171</td>\n",
       "      <td>49.172567</td>\n",
       "    </tr>\n",
       "    <tr>\n",
       "      <th>5</th>\n",
       "      <td>7</td>\n",
       "      <td>10.847481</td>\n",
       "      <td>49.915257</td>\n",
       "    </tr>\n",
       "  </tbody>\n",
       "</table>\n",
       "</div>"
      ],
      "text/plain": [
       "   feature        MSE   variance\n",
       "0        2  21.282057  39.480681\n",
       "1        3  20.252955  40.509784\n",
       "2        4  17.763861  42.998878\n",
       "3        5  17.761396  43.001342\n",
       "4        6  11.590171  49.172567\n",
       "5        7  10.847481  49.915257"
      ]
     },
     "execution_count": 809,
     "metadata": {},
     "output_type": "execute_result"
    }
   ],
   "source": [
    "step_df.sort_values('variance')"
   ]
  },
  {
   "cell_type": "markdown",
   "metadata": {},
   "source": [
    "The 2 feature model has the lowest variance with 39.48 and  the 7 feature model has the highest variance with \n",
    "49.91. This makes it an excellent example of the bias-variance-tradeoff. It makes it also not \"solvable\". \n",
    "<p>\n",
    "The mean-squared-errors here are generated by using <b> training data</b>  only meaning the predictions are made on the same training data X, which was used to fit the model. These errors are <b> in-sample-errors</b> . At this point we do not know how the model performs on unseen <b> testing data </b> or what the <b> out-of-samples-errors</b>  are. If the in-sample-error is \n",
    "significant lower than the out-of-sample-error than the model performs good on the training data but bad on the testing data. This is called <b>\"overfitting\"</b> and should be avoided.\n",
    "</p>"
   ]
  },
  {
   "cell_type": "code",
   "execution_count": 810,
   "metadata": {},
   "outputs": [
    {
     "data": {
      "image/png": "[encoded data removed]",
      "text/plain": [
       "<Figure size 432x288 with 1 Axes>"
      ]
     },
     "metadata": {},
     "output_type": "display_data"
    }
   ],
   "source": [
    "\n",
    "plt.plot(step_df['feature'], step_df['variance'])\n",
    "plt.plot(step_df['feature'], step_df['MSE'])\n",
    "plt.title(\"MSE and variance for every number of features\")\n",
    "plt.legend(loc=\"center right\")\n",
    "plt.style.use(['dark_background'])\n",
    "plt.show()"
   ]
  },
  {
   "cell_type": "markdown",
   "metadata": {},
   "source": [
    "There is not a optimum minium value for both."
   ]
  },
  {
   "cell_type": "markdown",
   "metadata": {},
   "source": [
    "#### Three feature linear regression model with K-Folds cross \n",
    "\n",
    "Is there overfitting?"
   ]
  },
  {
   "cell_type": "code",
   "execution_count": 811,
   "metadata": {},
   "outputs": [],
   "source": [
    "cars_55 = cars.copy()"
   ]
  },
  {
   "cell_type": "code",
   "execution_count": 812,
   "metadata": {},
   "outputs": [],
   "source": [
    "target_55 = cars_55[['mpg']]\n",
    "features_55 = cars_55[['cylinders', 'displacement', 'horsepower']]\n",
    "# print(features_55 )"
   ]
  },
  {
   "cell_type": "code",
   "execution_count": 813,
   "metadata": {},
   "outputs": [
    {
     "data": {
      "text/plain": [
       "10"
      ]
     },
     "execution_count": 813,
     "metadata": {},
     "output_type": "execute_result"
    }
   ],
   "source": [
    "kf = KFold(n_splits=10, random_state=3, shuffle=True)\n",
    "kf.get_n_splits(cars_55)"
   ]
  },
  {
   "cell_type": "code",
   "execution_count": 814,
   "metadata": {},
   "outputs": [
    {
     "name": "stdout",
     "output_type": "stream",
     "text": [
      "KFold(n_splits=10, random_state=3, shuffle=True)\n"
     ]
    }
   ],
   "source": [
    "print(kf)"
   ]
  },
  {
   "cell_type": "code",
   "execution_count": 815,
   "metadata": {},
   "outputs": [
    {
     "data": {
      "text/plain": [
       "<generator object _BaseKFold.split at 0x000002EF12A5A990>"
      ]
     },
     "execution_count": 815,
     "metadata": {},
     "output_type": "execute_result"
    }
   ],
   "source": [
    "kf.split(features_55)"
   ]
  },
  {
   "cell_type": "markdown",
   "metadata": {},
   "source": [
    "For every fold consisting of training folds (X_train, y_train) and testing folds (X_test, y_test) the mse and variance \n",
    "is determined. (There is a lot of algebra underlying this :-)"
   ]
  },
  {
   "cell_type": "code",
   "execution_count": 816,
   "metadata": {},
   "outputs": [],
   "source": [
    "variance_values_55 = []\n",
    "mse_values_55 = []\n",
    "\n",
    "\n",
    "for train_index, test_index in kf.split(cars_55):\n",
    "    # print(\"TRAIN:\", train_index, \"TEST:\", test_index)\n",
    "    X_train, X_test = features_55.iloc[train_index], features_55.iloc[test_index]\n",
    "    y_train, y_test = target_55.iloc[train_index], target_55.iloc[test_index]\n",
    "    reg_55 = LinearRegression()\n",
    "    reg_55.fit(X_train, y_train)\n",
    "    predictions_55 = reg_55.predict(X_test)\n",
    "    mse_55 = mean_squared_error(y_test, predictions_55)\n",
    "    variance_55 = np.var(predictions_55)\n",
    "    \n",
    "    variance_values_55.append(variance_55)\n",
    "    mse_values_55.append(mse_55)\n",
    "   \n",
    "    "
   ]
  },
  {
   "cell_type": "code",
   "execution_count": 817,
   "metadata": {},
   "outputs": [
    {
     "name": "stdout",
     "output_type": "stream",
     "text": [
      "[37.0741214564692, 45.135713046327325, 41.328004612180102, 49.610357084758839, 32.992095322429904, 49.38911180290129, 34.489167579279261, 42.255454425543242, 30.16886202618447, 38.469992209995858]\n"
     ]
    }
   ],
   "source": [
    "# variance of predictions for every fold\n",
    "print(variance_values_55)"
   ]
  },
  {
   "cell_type": "code",
   "execution_count": 818,
   "metadata": {},
   "outputs": [
    {
     "name": "stdout",
     "output_type": "stream",
     "text": [
      "[17.76676555473918, 16.721096330114374, 20.110780112421693, 15.415416476066913, 19.294842066799411, 29.361970671780455, 23.616882419304311, 25.045222245002144, 15.872726502363729, 23.350519560237341]\n"
     ]
    }
   ],
   "source": [
    "# mse's for every fold\n",
    "print(mse_values_55)"
   ]
  },
  {
   "cell_type": "code",
   "execution_count": 819,
   "metadata": {},
   "outputs": [
    {
     "data": {
      "text/plain": [
       "40.091287956606948"
      ]
     },
     "execution_count": 819,
     "metadata": {},
     "output_type": "execute_result"
    }
   ],
   "source": [
    "avg_variance_55 = np.mean(variance_values_55)\n",
    "avg_variance_55"
   ]
  },
  {
   "cell_type": "markdown",
   "metadata": {},
   "source": [
    "#### Out-of-sample error\n",
    "\n",
    "is the mean squared error on the test data (generated with K-fold cross validation)."
   ]
  },
  {
   "cell_type": "code",
   "execution_count": 820,
   "metadata": {},
   "outputs": [
    {
     "data": {
      "text/plain": [
       "20.655622193882955"
      ]
     },
     "execution_count": 820,
     "metadata": {},
     "output_type": "execute_result"
    }
   ],
   "source": [
    "avg_mse_55 = np.mean(mse_values_55)\n",
    "avg_mse_55 "
   ]
  },
  {
   "cell_type": "markdown",
   "metadata": {},
   "source": [
    "The average mse or out-of-sample-error of 20.6556 of the K-Folds 3 feature model is a slight impairment compared with the in-sample-error of 20.252955 before.The variance decreased from 40.509784 to 40.0912. As both errors are within in the same range the conclusion is justified that the model leads <b> not </b> to <b>overfitting</b>."
   ]
  },
  {
   "cell_type": "code",
   "execution_count": 821,
   "metadata": {},
   "outputs": [],
   "source": [
    "def train_test_cross(df, target, features):\n",
    "    # input as lists\n",
    "    target = df[target]\n",
    "    features = df[features]\n",
    "    \n",
    "    kf = KFold(n_splits=10, random_state=3, shuffle=True)\n",
    "       \n",
    "    variance_values = []\n",
    "    mse_values = []\n",
    "\n",
    "    for train_index, test_index in kf.split(df):\n",
    "        # print(\"TRAIN:\", train_index, \"TEST:\", test_index)\n",
    "        X_train, X_test = features.iloc[train_index], features.iloc[test_index]\n",
    "        y_train, y_test = target.iloc[train_index], target.iloc[test_index]\n",
    "        reg = LinearRegression()\n",
    "        reg.fit(X_train, y_train)\n",
    "        predictions = reg.predict(X_test)\n",
    "        mse = mean_squared_error(y_test, predictions)\n",
    "        variance = np.var(predictions)\n",
    "\n",
    "        variance_values.append(variance)\n",
    "        mse_values.append(mse)\n",
    "        \n",
    "    # Caution: here is no indentation, otherwise result will be distorted   \n",
    "    avg_mse = round(np.mean(mse_values),4)\n",
    "    avg_variance = round(np.mean(variance_values),4)\n",
    "        \n",
    "    return (avg_mse, avg_variance)\n",
    "        \n",
    "        "
   ]
  },
  {
   "cell_type": "code",
   "execution_count": 822,
   "metadata": {},
   "outputs": [],
   "source": [
    "avg_mse_2, avg_variance_2 = train_test_cross(df=cars, target=['mpg'], features=['cylinders', 'displacement'])\n",
    "avg_mse_3, avg_variance_3 = train_test_cross(df=cars, target=['mpg'], features=['cylinders', 'displacement', 'horsepower'])\n",
    "avg_mse_4, avg_variance_4 = train_test_cross(df=cars, target=['mpg'], features=['cylinders', 'displacement', 'horsepower', 'weight'])\n",
    "avg_mse_5, avg_variance_5 = train_test_cross(df=cars, target=['mpg'], features=['cylinders', 'displacement', 'horsepower', 'weight','acceleration'])\n",
    "avg_mse_6, avg_variance_6 = train_test_cross(df=cars, target=['mpg'], features=['cylinders', 'displacement', 'horsepower', 'weight',\\\n",
    "                                                                                'acceleration', 'model_year'])\n",
    "avg_mse_7, avg_variance_7 = train_test_cross(df=cars, target=['mpg'], features=['cylinders', 'displacement', 'horsepower', 'weight', \\\n",
    "                                                                                'acceleration', 'model_year', 'origin'])"
   ]
  },
  {
   "cell_type": "code",
   "execution_count": 823,
   "metadata": {},
   "outputs": [
    {
     "name": "stdout",
     "output_type": "stream",
     "text": [
      "21.5844 38.9025\n",
      "11.4181 49.9043\n",
      "20.6556 40.0913\n"
     ]
    }
   ],
   "source": [
    "print(avg_mse_2, avg_variance_2)\n",
    "print(avg_mse_7, avg_variance_7)\n",
    "print(avg_mse_3, avg_variance_3)"
   ]
  },
  {
   "cell_type": "code",
   "execution_count": 824,
   "metadata": {},
   "outputs": [],
   "source": [
    "avg_mse_list_2 = pd.Series([avg_mse_2, avg_mse_3, avg_mse_4, avg_mse_5, avg_mse_6, avg_mse_7])\n",
    "avg_variance_list_2 = pd.Series([avg_variance_2, avg_variance_3, avg_variance_4, avg_variance_5, avg_variance_6, avg_variance_7])\n",
    "number_features_2 = pd.Series(np.arange(2,8,1, dtype=\"int64\"))"
   ]
  },
  {
   "cell_type": "code",
   "execution_count": 825,
   "metadata": {},
   "outputs": [
    {
     "data": {
      "text/html": [
       "<div>\n",
       "<style>\n",
       "    .dataframe thead tr:only-child th {\n",
       "        text-align: right;\n",
       "    }\n",
       "\n",
       "    .dataframe thead th {\n",
       "        text-align: left;\n",
       "    }\n",
       "\n",
       "    .dataframe tbody tr th {\n",
       "        vertical-align: top;\n",
       "    }\n",
       "</style>\n",
       "<table border=\"1\" class=\"dataframe\">\n",
       "  <thead>\n",
       "    <tr style=\"text-align: right;\">\n",
       "      <th></th>\n",
       "      <th>feature</th>\n",
       "      <th>MSE</th>\n",
       "      <th>Var</th>\n",
       "    </tr>\n",
       "  </thead>\n",
       "  <tbody>\n",
       "    <tr>\n",
       "      <th>5</th>\n",
       "      <td>7</td>\n",
       "      <td>11.4181</td>\n",
       "      <td>49.9043</td>\n",
       "    </tr>\n",
       "    <tr>\n",
       "      <th>4</th>\n",
       "      <td>6</td>\n",
       "      <td>12.0997</td>\n",
       "      <td>48.9282</td>\n",
       "    </tr>\n",
       "    <tr>\n",
       "      <th>2</th>\n",
       "      <td>4</td>\n",
       "      <td>18.1697</td>\n",
       "      <td>42.5076</td>\n",
       "    </tr>\n",
       "    <tr>\n",
       "      <th>3</th>\n",
       "      <td>5</td>\n",
       "      <td>18.2830</td>\n",
       "      <td>42.5987</td>\n",
       "    </tr>\n",
       "    <tr>\n",
       "      <th>1</th>\n",
       "      <td>3</td>\n",
       "      <td>20.6556</td>\n",
       "      <td>40.0913</td>\n",
       "    </tr>\n",
       "    <tr>\n",
       "      <th>0</th>\n",
       "      <td>2</td>\n",
       "      <td>21.5844</td>\n",
       "      <td>38.9025</td>\n",
       "    </tr>\n",
       "  </tbody>\n",
       "</table>\n",
       "</div>"
      ],
      "text/plain": [
       "   feature      MSE      Var\n",
       "5        7  11.4181  49.9043\n",
       "4        6  12.0997  48.9282\n",
       "2        4  18.1697  42.5076\n",
       "3        5  18.2830  42.5987\n",
       "1        3  20.6556  40.0913\n",
       "0        2  21.5844  38.9025"
      ]
     },
     "execution_count": 825,
     "metadata": {},
     "output_type": "execute_result"
    }
   ],
   "source": [
    "avg_df_2 = pd.DataFrame([number_features_2, avg_mse_list_2, avg_variance_list_2]).T.rename(\n",
    "                         columns={0:\"feature\", 1:\"MSE\", 2:\"Var\"})\n",
    "avg_df_2['feature']=avg_df_2['feature'].astype(\"int64\")\n",
    "avg_df_2.sort_values(by=\"MSE\")"
   ]
  },
  {
   "cell_type": "code",
   "execution_count": 826,
   "metadata": {},
   "outputs": [
    {
     "data": {
      "image/png": "[encoded data removed]",
      "text/plain": [
       "<Figure size 432x288 with 1 Axes>"
      ]
     },
     "metadata": {},
     "output_type": "display_data"
    }
   ],
   "source": [
    "plt.plot(avg_df_2['feature'], avg_df_2['MSE'])\n",
    "plt.plot(avg_df_2['feature'], avg_df_2['Var'])\n",
    "plt.legend(loc=\"center right\")\n",
    "plt.title(\"MSE and variance of models \\n with different number of features\")\n",
    "plt.show()"
   ]
  },
  {
   "cell_type": "markdown",
   "metadata": {},
   "source": [
    "The 2 features model produces the lowest MSE and the 7 features model produces the lowest variance."
   ]
  },
  {
   "cell_type": "code",
   "execution_count": 827,
   "metadata": {},
   "outputs": [],
   "source": [
    "df_merged_1 = step_df.merge(avg_df_2, left_on='feature', right_on='feature', \n",
    "                            suffixes=('_in-sample', '_out_of_sample'))\n",
    "\n",
    "df_merged_1 = df_merged_1.rename(columns={'variance':'Var_in_sample', 'Var':'Var_out_of_sample'})\n",
    "df_merged_1[\"differenc MSE's\"] = df_merged_1['MSE_in-sample'] - df_merged_1['MSE_out_of_sample']\n",
    "df_merged_1['difference Var'] = df_merged_1['Var_in_sample'] - df_merged_1['Var_out_of_sample']"
   ]
  },
  {
   "cell_type": "code",
   "execution_count": 828,
   "metadata": {},
   "outputs": [
    {
     "data": {
      "text/html": [
       "<div>\n",
       "<style>\n",
       "    .dataframe thead tr:only-child th {\n",
       "        text-align: right;\n",
       "    }\n",
       "\n",
       "    .dataframe thead th {\n",
       "        text-align: left;\n",
       "    }\n",
       "\n",
       "    .dataframe tbody tr th {\n",
       "        vertical-align: top;\n",
       "    }\n",
       "</style>\n",
       "<table border=\"1\" class=\"dataframe\">\n",
       "  <thead>\n",
       "    <tr style=\"text-align: right;\">\n",
       "      <th></th>\n",
       "      <th>feature</th>\n",
       "      <th>MSE_in-sample</th>\n",
       "      <th>Var_in_sample</th>\n",
       "      <th>MSE_out_of_sample</th>\n",
       "      <th>Var_out_of_sample</th>\n",
       "      <th>differenc MSE's</th>\n",
       "      <th>difference Var</th>\n",
       "    </tr>\n",
       "  </thead>\n",
       "  <tbody>\n",
       "    <tr>\n",
       "      <th>0</th>\n",
       "      <td>2</td>\n",
       "      <td>21.282057</td>\n",
       "      <td>39.480681</td>\n",
       "      <td>21.5844</td>\n",
       "      <td>38.9025</td>\n",
       "      <td>-0.302343</td>\n",
       "      <td>0.578181</td>\n",
       "    </tr>\n",
       "    <tr>\n",
       "      <th>1</th>\n",
       "      <td>3</td>\n",
       "      <td>20.252955</td>\n",
       "      <td>40.509784</td>\n",
       "      <td>20.6556</td>\n",
       "      <td>40.0913</td>\n",
       "      <td>-0.402645</td>\n",
       "      <td>0.418484</td>\n",
       "    </tr>\n",
       "    <tr>\n",
       "      <th>2</th>\n",
       "      <td>4</td>\n",
       "      <td>17.763861</td>\n",
       "      <td>42.998878</td>\n",
       "      <td>18.1697</td>\n",
       "      <td>42.5076</td>\n",
       "      <td>-0.405839</td>\n",
       "      <td>0.491278</td>\n",
       "    </tr>\n",
       "    <tr>\n",
       "      <th>3</th>\n",
       "      <td>5</td>\n",
       "      <td>17.761396</td>\n",
       "      <td>43.001342</td>\n",
       "      <td>18.2830</td>\n",
       "      <td>42.5987</td>\n",
       "      <td>-0.521604</td>\n",
       "      <td>0.402642</td>\n",
       "    </tr>\n",
       "    <tr>\n",
       "      <th>4</th>\n",
       "      <td>6</td>\n",
       "      <td>11.590171</td>\n",
       "      <td>49.172567</td>\n",
       "      <td>12.0997</td>\n",
       "      <td>48.9282</td>\n",
       "      <td>-0.509529</td>\n",
       "      <td>0.244367</td>\n",
       "    </tr>\n",
       "    <tr>\n",
       "      <th>5</th>\n",
       "      <td>7</td>\n",
       "      <td>10.847481</td>\n",
       "      <td>49.915257</td>\n",
       "      <td>11.4181</td>\n",
       "      <td>49.9043</td>\n",
       "      <td>-0.570619</td>\n",
       "      <td>0.010957</td>\n",
       "    </tr>\n",
       "  </tbody>\n",
       "</table>\n",
       "</div>"
      ],
      "text/plain": [
       "   feature  MSE_in-sample  Var_in_sample  MSE_out_of_sample  \\\n",
       "0        2      21.282057      39.480681            21.5844   \n",
       "1        3      20.252955      40.509784            20.6556   \n",
       "2        4      17.763861      42.998878            18.1697   \n",
       "3        5      17.761396      43.001342            18.2830   \n",
       "4        6      11.590171      49.172567            12.0997   \n",
       "5        7      10.847481      49.915257            11.4181   \n",
       "\n",
       "   Var_out_of_sample  differenc MSE's  difference Var  \n",
       "0            38.9025        -0.302343        0.578181  \n",
       "1            40.0913        -0.402645        0.418484  \n",
       "2            42.5076        -0.405839        0.491278  \n",
       "3            42.5987        -0.521604        0.402642  \n",
       "4            48.9282        -0.509529        0.244367  \n",
       "5            49.9043        -0.570619        0.010957  "
      ]
     },
     "execution_count": 828,
     "metadata": {},
     "output_type": "execute_result"
    }
   ],
   "source": [
    "df_merged_1"
   ]
  },
  {
   "cell_type": "markdown",
   "metadata": {},
   "source": [
    "The difference in in-sample and out-sample results are relatively minor. The step-by-step models without cross-validation are not resulting in over-fitting."
   ]
  },
  {
   "cell_type": "code",
   "execution_count": 829,
   "metadata": {},
   "outputs": [
    {
     "data": {
      "image/png": "[encoded data removed]",
      "text/plain": [
       "<Figure size 648x360 with 2 Axes>"
      ]
     },
     "metadata": {},
     "output_type": "display_data"
    }
   ],
   "source": [
    "fig = plt.figure(figsize=(9,5))\n",
    "fig.add_subplot(121)\n",
    "plt.plot(df_merged_1['feature'], df_merged_1['MSE_out_of_sample'])\n",
    "plt.title('MSE_out_of_sample')\n",
    "fig.add_subplot(122)\n",
    "plt.plot(df_merged_1['feature'], df_merged_1['Var_out_of_sample'])\n",
    "plt.title('Var_out_of_sample')\n",
    "plt.show()"
   ]
  },
  {
   "cell_type": "markdown",
   "metadata": {},
   "source": [
    "The model performance increased with increased complexity or increased number of features. \n",
    "However the model predictability decreased with complexity. This is a step forward but can be improved with\n",
    "hyperparameter tuning or different algorithms. Additionally a holdout data set can be used. \n",
    "\n",
    "<p>\n",
    "<a fref=\"https://en.wikipedia.org/wiki/Training,_validation,_and_test_sets\">Wikipedia: </a>Finally, the test dataset is a dataset used to provide an unbiased evaluation of a final model fit on \n",
    "the training dataset. If the data in the test dataset has never been used in training (for example in cross-validation), the test dataset is also called a holdout dataset. \n",
    "</p>"
   ]
  }
 ],
 "metadata": {
  "kernelspec": {
   "display_name": "Python 3",
   "language": "python",
   "name": "python3"
  },
  "language_info": {
   "codemirror_mode": {
    "name": "ipython",
    "version": 3
   },
   "file_extension": ".py",
   "mimetype": "text/x-python",
   "name": "python",
   "nbconvert_exporter": "python",
   "pygments_lexer": "ipython3",
   "version": "3.6.8"
  }
 },
 "nbformat": 4,
 "nbformat_minor": 2
}
